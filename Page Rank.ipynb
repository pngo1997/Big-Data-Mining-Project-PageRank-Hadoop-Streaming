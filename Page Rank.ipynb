{
 "cells": [
  {
   "cell_type": "markdown",
   "id": "b5c746aa-c397-452b-a6b6-2483f42db96e",
   "metadata": {},
   "source": [
    "#### Student Name: Mai Ngo\n",
    "#### Course Name and Number: CSC 555 Big Data Mining\n",
    "#### Assignment 4 - Part 1\n",
    "#### Date: 11/10/2023"
   ]
  },
  {
   "cell_type": "markdown",
   "id": "f993d666-ec1f-4cef-bccb-5956f7100f1e",
   "metadata": {},
   "source": [
    "### Part 1"
   ]
  },
  {
   "cell_type": "markdown",
   "id": "02e24662-7530-41c2-abd1-0e99f7336b64",
   "metadata": {},
   "source": [
    "select d_dayofweek, d_month, lo_revenue, lo_extendedprice \\\n",
    "from lineorder, dwdate \\\n",
    "where lo_orderdate = d_datekey \\\n",
    "and d_year = 1997 \\\n",
    "and lo_discount between 6 and 8 \\\n",
    "and lo_quantity < 11;"
   ]
  },
  {
   "cell_type": "code",
   "execution_count": 1,
   "id": "2517f262-38fa-4fab-94c0-32d0b9225429",
   "metadata": {},
   "outputs": [],
   "source": [
    "#Sample for simplified code.\n",
    "lines = ['19920101|January 1, 1992|Thursday|January|1997|199201|Jan1992|5|1|1|1|1|Winter|0|1|1|1|', \\\n",
    "         '19960102|January 2, 1992|Friday|January|1997|199201|Jan1992|6|2|2|1|1|Winter|0|1|0|1|', \\\n",
    "         '19960102|January 3, 1992|Saturday|January|1997|199201|Jan1992|7|3|3|1|1|Winter|1|1|0|0|', \\\n",
    "         '19960102|January 4, 1992|Sunday|January|1997|199201|Jan1992|1|4|4|1|1|Winter|0|1|0|0|', \\\n",
    "         '19960102|January 5, 1992|Monday|January|1997|199201|Jan1992|2|5|5|1|1|Winter|0|1|0|1|', \\\n",
    "         '19960102|January 6, 1992}Tuesday|January|1992|199201|Jan1992|3|6|6|1|1|Winter|0|1|0|1|', \\\n",
    "         '19960102|January 2, 1992|Friday|January|1997|199201|Jan1992|6|2|2|1|1|Winter|0|1|0|1|', \\\n",
    "         '1|1|7381|155190|828|19960102|5-LOW|0|0|2116823|17366547|7|2032150|74711|2|19960212|TRUCK|', \\\n",
    "         '1|2|7381|67310|163|19960102|5-LOW|0|9|4598316|17366547|8|4184467|76638|6|19960228|MAIL|', \\\n",
    "         '1|3|7381|63700|71|19920106|5-LOW|0|8|1330960|17366547|6|1197864|99822|2|19960305|REG AIR|', \\\n",
    "         '1|4|7381|2132|943|19960102|5-LOW|0|7|2895564|17366547|7|2634963|62047|6|19960330|AIR|', \\\n",
    "         '1|5|7381|24027|1625|19960102|5-LOW|12|24|2282448|17366547|10|2054203|57061|4|19960314|FOB|', \\\n",
    "         '1|6|7381|15635|1368|19920102|5-LOW|0|10|4962016|17366547|7|4614674|93037|2|19960207|MAIL|']"
   ]
  },
  {
   "cell_type": "code",
   "execution_count": 2,
   "id": "a44810df-7ecf-4d12-86a9-b07aadcdc0a8",
   "metadata": {},
   "outputs": [],
   "source": [
    "#Mapper - Extract column name using index.\n",
    "#!/usr/bin/python\n",
    "import sys\n",
    "\n",
    "#Identify each table by using second to last character.\n",
    "#Extract required collumn accordingly for each table.\n",
    "#Apply filtering given query condition. \n",
    "\n",
    "for line in sys.stdin:\n",
    "    columnName = line.strip().split('|') #Since both tables have 17 columns.\n",
    "    if columnName[-2] == '0' or columnName[-2] == '1': \n",
    "        d_dayofweek = columnName[2]\n",
    "        d_month = columnName[3]\n",
    "        d_datekey = columnName[0]\n",
    "        d_year = int(columnName[4])\n",
    "        if d_year == 1997: \n",
    "            print(f\"dwdate|{d_datekey}|{d_dayofweek}|{d_month}\")\n",
    "    else:\n",
    "        lo_revenue = int(columnName[12])\n",
    "        lo_extendedprice = columnName[9]\n",
    "        lo_orderdate = columnName[5]\n",
    "        lo_quantity = int(columnName[8])\n",
    "        lo_discount = int(columnName[11])\n",
    "        if lo_quantity < 11 and 6 <= lo_discount <= 8:\n",
    "            print(f\"lineorder|{lo_orderdate}|{lo_revenue}|{lo_extendedprice}\")"
   ]
  },
  {
   "cell_type": "code",
   "execution_count": 3,
   "id": "edae0064-5cec-4320-b390-f67765571e95",
   "metadata": {},
   "outputs": [],
   "source": [
    "#Sample for simplified code.\n",
    "lines2 = ['dwdate|19920101|Thursday|January', \\\n",
    "          'dwdate|19960102|Friday|January', \\\n",
    "          'dwdate|19960102|Saturday|January', \\\n",
    "          'dwdate|19960102|Sunday|January', \\\n",
    "          'dwdate|19960102|Monday|January', \\\n",
    "          'dwdate|19960102|Friday|January', \\\n",
    "          'lineorder|19960102|2032150|2116823', \\\n",
    "          'lineorder|19960102|4184467|4598316', \\\n",
    "          'lineorder|19920106|1197864|1330960', \\\n",
    "          'lineorder|19960102|2634963|2895564', \\\n",
    "          'lineorder|19920102|4614674|4962016']"
   ]
  },
  {
   "cell_type": "code",
   "execution_count": 4,
   "id": "a46c6bd5-246b-456e-ab32-42da95c8b86f",
   "metadata": {},
   "outputs": [
    {
     "name": "stdout",
     "output_type": "stream",
     "text": [
      "d_dayofweek|d_month|lo_revenue|lo_extendedprice\n"
     ]
    }
   ],
   "source": [
    "#Reducer\n",
    "#!/usr/bin/python\n",
    "import sys\n",
    "\n",
    "#Initiate dictionary for dwdate table to cross check.\n",
    "#Lineorder table as a list.\n",
    "dwdateDict = {}\n",
    "lineorderData = []\n",
    "\n",
    "print('d_dayofweek|d_month|lo_revenue|lo_extendedprice')\n",
    "\n",
    "for line in sys.stdin:\n",
    "    columnName = line.strip().split('|')\n",
    "    fileSource = columnName[0]\n",
    "\n",
    "    if fileSource == \"dwdate\":\n",
    "        d_datekey = columnName[1]\n",
    "        d_dayofweek = columnName[2]\n",
    "        d_month = columnName[3]\n",
    "\n",
    "        if d_datekey not in dwdateDict:\n",
    "            #dwdate dictionary with d_datekey as key, and (d_dayof week, d_month) as tuple values. \n",
    "            dwdateDict[d_datekey] = []\n",
    "        dwdateDict[d_datekey].append((d_dayofweek, d_month))\n",
    "\n",
    "    elif fileSource == \"lineorder\":\n",
    "        lo_orderdate = columnName[1]\n",
    "        lo_revenue = columnName[2]\n",
    "        lo_extendedprice = columnName[3]\n",
    "\n",
    "        if lo_orderdate in dwdateDict:\n",
    "            for d_dayofweek, d_month in dwdateDict[lo_orderdate]:\n",
    "                #List with element as four variable stored as tuples.\n",
    "                lineorderData.append((d_dayofweek, d_month, lo_revenue, lo_extendedprice))\n",
    "\n",
    "#Each row from \"lineorder\" matching with every row from \"dwdate\".\n",
    "for variable in lineorderData:\n",
    "    print(f\"{variable[0]}|{variable[1]}|{variable[2]}|{variable[3]}\")"
   ]
  },
  {
   "cell_type": "markdown",
   "id": "13ea87dc-ebbf-492d-a346-e3c5f67263ef",
   "metadata": {},
   "source": [
    "### Part 2"
   ]
  },
  {
   "cell_type": "code",
   "execution_count": 5,
   "id": "35175375-acdb-4e13-bb24-2d4681fed7ec",
   "metadata": {},
   "outputs": [
    {
     "data": {
      "text/plain": [
       "'68b92c1d493f82404fe793e26601d0771c9c69342da572a10badde9dde1e587d'"
      ]
     },
     "execution_count": 5,
     "metadata": {},
     "output_type": "execute_result"
    }
   ],
   "source": [
    "import hashlib\n",
    "#Class example.\n",
    "hashlib.sha256(b\"tmalik 1\").hexdigest()"
   ]
  },
  {
   "cell_type": "code",
   "execution_count": 6,
   "id": "ee273e3c-a97a-40b4-b223-4fd82b96ef3e",
   "metadata": {},
   "outputs": [
    {
     "name": "stdout",
     "output_type": "stream",
     "text": [
      "My hash value: 8342551fea44be8bb7684be59aaf80a427d1a3fc005e698d48d6cc4d86cf8e3c\n",
      "First hash index: 8\n",
      "Second hash index: 3\n"
     ]
    }
   ],
   "source": [
    "#Using my depaul id.\n",
    "maiHash = hashlib.sha256(b\"mngo 1\").hexdigest()\n",
    "print(f'My hash value: {maiHash}')\n",
    "\n",
    "#First hash function.\n",
    "firstHash = int(maiHash[0], 16)\n",
    "print(f'First hash index: {firstHash}')\n",
    "#Second hash function.\n",
    "secondHash = int(maiHash[1], 16)\n",
    "print(f'Second hash index: {secondHash}')"
   ]
  },
  {
   "cell_type": "markdown",
   "id": "08665489-7acb-46bf-b080-78761549cff7",
   "metadata": {},
   "source": [
    "#### With this, every input X 'number string' will be hashed using template 'mngo X'."
   ]
  },
  {
   "cell_type": "code",
   "execution_count": 7,
   "id": "54f174d8-ac19-460b-b233-3f00c44f366c",
   "metadata": {},
   "outputs": [],
   "source": [
    "class BloomFilter:\n",
    "    def __init__(self, filterSize, hashFunctions, depaulid):\n",
    "        self.filterSize = filterSize\n",
    "        self.hashFunctions = hashFunctions\n",
    "        self.bitArray = [False] * filterSize\n",
    "        self.depaulid = depaulid\n",
    "\n",
    "    def add(self, element):\n",
    "        '''Adding an element to bloom filter.'''\n",
    "        \n",
    "        #For each hash function '0' and '1'.\n",
    "        for i in range(self.hashFunctions):\n",
    "            #Update hash template 'mngo X', given element number is X.\n",
    "            elementFinal = f\"{self.depaulid} {element}\"\n",
    "            \n",
    "            #Calling _hash function to get index to set in bit array.\n",
    "            index = self._hash(elementFinal, i)\n",
    "            #Set to '1' in bit array at returned index position. \n",
    "            self.bitArray[index] = True\n",
    "\n",
    "    def contains(self, element):\n",
    "        '''Checking if an element exists in bloom filter.'''\n",
    "        \n",
    "        for i in range(self.hashFunctions):\n",
    "            elementFinal = f\"{self.depaulid} {element}\"\n",
    "            index = self._hash(elementFinal, i)\n",
    "            \n",
    "            #If bit array value at returned index position is 'False' or '0'.\n",
    "            if not self.bitArray[index]:\n",
    "                return False\n",
    "        return True\n",
    "\n",
    "    def _hash(self, elementFinal, i):\n",
    "        '''Hash an element with respective hashing function. \n",
    "        Using hashlib.sha256 and return the index to set in bit array.'''\n",
    "        \n",
    "        #Get hash value - hexadecimal.\n",
    "        hashHex = hashlib.sha256(elementFinal.encode('utf-8')).hexdigest()\n",
    "        #With respective hash function of either '0' and '1'. \n",
    "        #Extract first and second hex digits. \n",
    "        #Index will be within (0, 15) for hexadecimal numbers. \n",
    "        index = int(hashHex[i], 16) \n",
    "        \n",
    "        return index"
   ]
  },
  {
   "cell_type": "code",
   "execution_count": 8,
   "id": "d7dc97e2-7934-428b-9fb4-77774198d48d",
   "metadata": {},
   "outputs": [
    {
     "name": "stdout",
     "output_type": "stream",
     "text": [
      "Element 1 | Bit set: [False, False, False, True, False, False, False, False, True, False, False, False, False, False, False, False]\n",
      "Element 3 | Bit set: [False, False, True, True, True, False, False, False, True, False, False, False, False, False, False, False]\n",
      "Element 5 | Bit set: [False, False, True, True, True, False, False, False, True, True, False, False, False, True, False, False]\n",
      "Element 7 | Bit set: [False, False, True, True, True, False, False, False, True, True, False, False, True, True, False, True]\n",
      "Element 9 | Bit set: [False, False, True, True, True, False, False, False, True, True, False, False, True, True, True, True]\n",
      "Element 11 | Bit set: [False, True, True, True, True, False, False, False, True, True, False, False, True, True, True, True]\n",
      "Element 13 | Bit set: [False, True, True, True, True, False, False, True, True, True, False, False, True, True, True, True]\n",
      "Element 15 | Bit set: [False, True, True, True, True, False, False, True, True, True, False, False, True, True, True, True]\n",
      "Element 17 | Bit set: [False, True, True, True, True, False, False, True, True, True, False, False, True, True, True, True]\n",
      "Element 19 | Bit set: [False, True, True, True, True, True, False, True, True, True, False, False, True, True, True, True]\n",
      "\n",
      "\n",
      "a) Bit have been set after all insertions:\n",
      "[False, True, True, True, True, True, False, True, True, True, False, False, True, True, True, True]\n",
      "\n",
      "\n",
      "b) Check element presense:\n",
      "2 may be in the set.\n",
      "4 is definitely not in the set.\n",
      "6 is definitely not in the set.\n",
      "8 is definitely not in the set.\n",
      "10 may be in the set.\n",
      "12 may be in the set.\n",
      "14 may be in the set.\n",
      "16 is definitely not in the set.\n",
      "18 is definitely not in the set.\n",
      "20 is definitely not in the set.\n"
     ]
    }
   ],
   "source": [
    "if __name__ == '__main__':\n",
    "    #Input my depaulid.\n",
    "    depaulid = 'mngo'\n",
    "    #Two hash functions of '0' and '1' represents 1st and 2nd hex digit. \n",
    "    hashFunctions = 2\n",
    "    #Size of bit array.\n",
    "    filterSize = 16\n",
    "    bloomFilter = BloomFilter(filterSize, hashFunctions, depaulid)\n",
    "    \n",
    "    #Insert elements into the filter.\n",
    "    insertElement = [str(numStr) for numStr in range(20) if numStr % 2 != 0]\n",
    "    for element in insertElement:\n",
    "        bloomFilter.add(element)\n",
    "        print(f'Element {element} | Bit set: {bloomFilter.bitArray}')\n",
    "\n",
    "    #Bit have been set after all insertions.\n",
    "    print('\\n')\n",
    "    print('a) Bit have been set after all insertions:')\n",
    "    print(bloomFilter.bitArray)\n",
    "    print('\\n')\n",
    "    print('b) Check element presense:')\n",
    "    \n",
    "    #Check for element presence.\n",
    "    checkElement = [str(numStr) for numStr in range(2, 21) if numStr % 2 == 0]\n",
    "    for element in checkElement:\n",
    "        if bloomFilter.contains(element):\n",
    "            print(f\"{element} may be in the set.\")\n",
    "        else:\n",
    "            print(f\"{element} is definitely not in the set.\")"
   ]
  },
  {
   "cell_type": "markdown",
   "id": "bb410840-a834-44bb-a4c6-e09c15c2f2fc",
   "metadata": {},
   "source": [
    "### Part 3"
   ]
  },
  {
   "cell_type": "markdown",
   "id": "fd4bc3b9-4634-4ef1-b465-cd8beb4a1a2e",
   "metadata": {},
   "source": [
    "### Method 1: Matrix multiplcation follow class."
   ]
  },
  {
   "cell_type": "code",
   "execution_count": 9,
   "id": "869ddb82-2462-4769-9379-a2ed76a5b53e",
   "metadata": {},
   "outputs": [
    {
     "name": "stdout",
     "output_type": "stream",
     "text": [
      "Number of outgoing edges of each respective neuron node:  [2.0, 1.0, 2.0, 1.0]\n"
     ]
    }
   ],
   "source": [
    "import numpy as np\n",
    "\n",
    "threshold = 0.0000000000001\n",
    "beta =0.85\n",
    "\n",
    "#Matrix with '1' represents incoming edges. Column: from | Row: to.\n",
    "adjacencyMatrix = [[0, 1, 0, 1],\n",
    "                   [0, 0, 1, 0],\n",
    "                   [1, 0, 0, 0],\n",
    "                   [1, 0, 1, 0]]\n",
    "\n",
    "#Make a copy of adjacency matrix and convert each element into float.\n",
    "float_adjacencyMatrix=np.array(adjacencyMatrix, dtype=float)\n",
    "\n",
    "outgoing_edgesCount=[]\n",
    "#Get count of outgoing edges of each respective neuron.\n",
    "for i in range(0, len(adjacencyMatrix)):\n",
    "    outgoing_edgesCount.append(np.sum(float_adjacencyMatrix[:,i]))\n",
    "\n",
    "print(\"Number of outgoing edges of each respective neuron node: \", outgoing_edgesCount)   "
   ]
  },
  {
   "cell_type": "code",
   "execution_count": 10,
   "id": "51b5516d-ab71-47c4-8cb9-27e897c3ed78",
   "metadata": {},
   "outputs": [
    {
     "name": "stdout",
     "output_type": "stream",
     "text": [
      "Column stochastic probability matrix / importance distribution of outgoing node:\n",
      "[[0.  1.  0.  1. ]\n",
      " [0.  0.  0.5 0. ]\n",
      " [0.5 0.  0.  0. ]\n",
      " [0.5 0.  0.5 0. ]]\n",
      "Initial rank vector:\n",
      "[[0.25]\n",
      " [0.25]\n",
      " [0.25]\n",
      " [0.25]]\n"
     ]
    }
   ],
   "source": [
    "#Make a copy of float adjacency matrix to calculate importance of outgoing edges, by column: 'from'.\n",
    "importance_adjacencyMatrix = float_adjacencyMatrix\n",
    "\n",
    "for column in range(0, len(adjacencyMatrix)):\n",
    "    #(M[:,j]) is each column of adjacency matrix.\n",
    "    importance_adjacencyMatrix[:,column]=importance_adjacencyMatrix[:,column]/outgoing_edgesCount[column]\n",
    "\n",
    "print(\"Column stochastic probability matrix / importance distribution of outgoing node:\")\n",
    "print(importance_adjacencyMatrix)\n",
    "\n",
    "rankVector = (1.0 + np.zeros([len(adjacencyMatrix), 1]))/len(adjacencyMatrix)\n",
    "print(\"Initial rank vector:\")\n",
    "print(rankVector)"
   ]
  },
  {
   "cell_type": "markdown",
   "id": "5d59c752-d9d6-496b-bd03-5e11a8b3b2b0",
   "metadata": {},
   "source": [
    "#### 1001 iterations with convergence included."
   ]
  },
  {
   "cell_type": "code",
   "execution_count": 11,
   "id": "c2d3739e-e78e-43eb-9140-597510f83f28",
   "metadata": {},
   "outputs": [
    {
     "name": "stdout",
     "output_type": "stream",
     "text": [
      "Converged iteration:  86\n",
      "Final rank vector: [0.4 0.1 0.2 0.3]\n",
      "Ranking of pages: [1, 4, 3, 2]\n"
     ]
    }
   ],
   "source": [
    "#Not apply Random Walk since this is not a 'dead end' or 'spider trap' case.\n",
    "previous_rankVector=rankVector\n",
    "\n",
    "for i in range(1, 1001):\n",
    "    rankVector = np.matmul(importance_adjacencyMatrix, previous_rankVector)\n",
    "    #Check for convergence.\n",
    "    difference = np.sum(abs(rankVector - previous_rankVector))\n",
    "    if (difference < threshold):\n",
    "        print(\"Converged iteration: \", i)\n",
    "        break\n",
    "    \n",
    "    previous_rankVector=rankVector\n",
    "\n",
    "print(f'Final rank vector: {rankVector[:, 0]}')\n",
    "\n",
    "sortedIndex = np.argsort(rankVector, axis=0)[::-1]\n",
    "rankedList = [index[0] + 1 for index in sortedIndex]\n",
    "print(f'Ranking of pages: {rankedList}')"
   ]
  },
  {
   "cell_type": "markdown",
   "id": "b8a6098b-bd4f-40fe-86ea-9736b6a7f579",
   "metadata": {},
   "source": [
    "#### 6 Iterations, follow manual calculation."
   ]
  },
  {
   "cell_type": "code",
   "execution_count": 12,
   "id": "a4c2119c-f095-4137-9fdd-fb1dd17439d8",
   "metadata": {},
   "outputs": [
    {
     "name": "stdout",
     "output_type": "stream",
     "text": [
      "Final rank vector: [0.40625  0.109375 0.1875   0.296875]\n",
      "Ranking of pages: [1, 4, 3, 2]\n"
     ]
    }
   ],
   "source": [
    "rankVector = (1.0 + np.zeros([len(adjacencyMatrix), 1]))/len(adjacencyMatrix)\n",
    "previous_rankVector=rankVector\n",
    "\n",
    "for i in range(1, 7):\n",
    "    rankVector = np.matmul(importance_adjacencyMatrix, previous_rankVector)\n",
    "    #Check for convergence.\n",
    "    difference = np.sum(abs(rankVector - previous_rankVector))\n",
    "    if (difference < threshold):\n",
    "        print(\"Converged iteration: \", i)\n",
    "        break\n",
    "    \n",
    "    previous_rankVector=rankVector\n",
    "\n",
    "print(f'Final rank vector: {rankVector[:, 0]}')\n",
    "\n",
    "sortedIndex = np.argsort(rankVector, axis=0)[::-1]\n",
    "rankedList = [index[0] + 1 for index in sortedIndex]\n",
    "print(f'Ranking of pages: {rankedList}')"
   ]
  },
  {
   "cell_type": "markdown",
   "id": "decea548-acd9-4e50-91bc-a033b4e9e956",
   "metadata": {},
   "source": [
    "### Method 2: Using NetworkX library."
   ]
  },
  {
   "cell_type": "code",
   "execution_count": 13,
   "id": "7631aad6-2ef2-4160-94b5-dc0511db1ab4",
   "metadata": {},
   "outputs": [],
   "source": [
    "import matplotlib.pyplot as plt\n",
    "import networkx as nx\n",
    "import numpy as np\n",
    "import sys\n",
    "\n",
    "#Generate given network.\n",
    "M = nx.DiGraph()\n",
    "M.add_nodes_from(['A', 'B', 'X', 'Y'])\n",
    "M.add_edges_from([('B', 'A'), ('A', 'Y'), ('Y', 'A'), ('X', 'Y'), ('X', 'B'), ('A', 'X')])"
   ]
  },
  {
   "cell_type": "code",
   "execution_count": 14,
   "id": "7d0e454d-5c22-4ed0-9c54-b875d597b779",
   "metadata": {},
   "outputs": [
    {
     "data": {
      "image/png": "[encoded data removed]",
      "text/plain": [
       "<Figure size 640x480 with 1 Axes>"
      ]
     },
     "metadata": {},
     "output_type": "display_data"
    }
   ],
   "source": [
    "#Plot the network.\n",
    "pos = nx.spring_layout(M) \n",
    "nx.draw(M, pos, with_labels=True, node_size=800, node_color='palevioletred')\n",
    "plt.title(\"Page Rank\")\n",
    "plt.show()"
   ]
  },
  {
   "cell_type": "code",
   "execution_count": 15,
   "id": "77caedda-636c-4674-83aa-34c6b5b3e15a",
   "metadata": {},
   "outputs": [],
   "source": [
    "def pageRank(network, iterations):\n",
    "    '''Page rank calculation.'''\n",
    "    \n",
    "    #Set initial importance value for each node, per class example.\n",
    "    initialImportance = 1.0 / len(network)\n",
    "    pagerankDict = {node: initialImportance for node in network.nodes()}\n",
    "\n",
    "    for _ in range(iterations):\n",
    "        #Dictionary to store new page rank after each iteration.\n",
    "        updated_pageRank = {}\n",
    "\n",
    "        for node in network.nodes():\n",
    "            sum_pageRank = 0\n",
    "            for neighbor in network.predecessors(node):\n",
    "                #Formula following class, importance of iterated  node = sum of importances of incoming edges.\n",
    "                #Which EACH importance of outgoing edges proportioned to how many outgoing edges in respective node.   \n",
    "                sum_pageRank += pagerankDict[neighbor] / len(network.out_edges(neighbor))\n",
    "            updated_pageRank[node] = sum_pageRank\n",
    "\n",
    "        #Check for convergence, compared to previous page rank. Using threshold given in class.\n",
    "        if sum(abs(updated_pageRank[node] - pagerankDict[node]) for node in network) < 0.0000000000001:\n",
    "            print(f'Stop at iteration: {_}')\n",
    "            break\n",
    "\n",
    "        pagerankDict = updated_pageRank\n",
    "\n",
    "    #Rank the nodes based on final importance values.\n",
    "    sortedNodes = sorted(pagerankDict, key=pagerankDict.get, reverse=True)\n",
    "    ranked_pageRank = {node: rank + 1 for rank, node in enumerate(sortedNodes)}\n",
    "\n",
    "    for node in network.nodes():\n",
    "        print(f\"Node {node}: PageRank = {pagerankDict[node]:.5f}, Rank = {ranked_pageRank[node]}\")"
   ]
  },
  {
   "cell_type": "markdown",
   "id": "7931f738-8831-45f1-8295-f8f48ddf7e68",
   "metadata": {},
   "source": [
    "#### 100 Iterations, allow room for convergence check."
   ]
  },
  {
   "cell_type": "code",
   "execution_count": 16,
   "id": "cf8ed2e7-ca8d-479f-9ffc-09f96a7b8a5c",
   "metadata": {},
   "outputs": [
    {
     "name": "stdout",
     "output_type": "stream",
     "text": [
      "Stop at iteration: 85\n",
      "Node A: PageRank = 0.40000, Rank = 1\n",
      "Node B: PageRank = 0.10000, Rank = 4\n",
      "Node X: PageRank = 0.20000, Rank = 3\n",
      "Node Y: PageRank = 0.30000, Rank = 2\n"
     ]
    }
   ],
   "source": [
    "pageRank(M, 100) "
   ]
  },
  {
   "cell_type": "markdown",
   "id": "8c4508d2-24a2-4e4d-b136-cb4b1d6357b9",
   "metadata": {},
   "source": [
    "#### 6 Iterations, follow manual calculation."
   ]
  },
  {
   "cell_type": "code",
   "execution_count": 17,
   "id": "73f760ae-c9b7-4ccc-bcaf-9a9d3f329326",
   "metadata": {},
   "outputs": [
    {
     "name": "stdout",
     "output_type": "stream",
     "text": [
      "Node A: PageRank = 0.40625, Rank = 1\n",
      "Node B: PageRank = 0.10938, Rank = 4\n",
      "Node X: PageRank = 0.18750, Rank = 3\n",
      "Node Y: PageRank = 0.29688, Rank = 2\n"
     ]
    }
   ],
   "source": [
    "pageRank(M, 6)"
   ]
  },
  {
   "cell_type": "markdown",
   "id": "90ed86d0-574b-475f-9bc9-a4b67f9bfb63",
   "metadata": {},
   "source": [
    "### Part 4 - 1st approach using Random Walk, teleport randomly to other nodes. "
   ]
  },
  {
   "cell_type": "markdown",
   "id": "aed92b0a-acec-441f-80ad-baf15730a7a7",
   "metadata": {},
   "source": [
    "### Method 1: Matrix multiplcation follow class."
   ]
  },
  {
   "cell_type": "code",
   "execution_count": 18,
   "id": "16d82971-f235-4252-86e9-0c3ba914637f",
   "metadata": {},
   "outputs": [
    {
     "name": "stdout",
     "output_type": "stream",
     "text": [
      "Number of outgoing edges of each respective neuron node:  [1.0, 1.0, 2.0, 3.0, 0.0]\n"
     ]
    }
   ],
   "source": [
    "#Matrix with '1' represents incoming edges. Column: from | Row: to.\n",
    "adjacencyMatrix = [[0, 0, 1, 1, 0],\n",
    "                   [0, 0, 1, 1, 0],\n",
    "                   [0, 0, 0, 1, 0],\n",
    "                   [1, 0, 0, 0, 0],\n",
    "                   [0, 1, 0, 0, 0]]\n",
    "#Make a copy of adjacency matrix and convert each element into float.\n",
    "float_adjacencyMatrix=np.array(adjacencyMatrix, dtype=float)\n",
    "\n",
    "outgoing_edgesCount=[]\n",
    "#Get count of outgoing edges of each respective neuron.\n",
    "for i in range(0, len(adjacencyMatrix)):\n",
    "    outgoing_edgesCount.append(np.sum(float_adjacencyMatrix[:,i]))\n",
    "\n",
    "print(\"Number of outgoing edges of each respective neuron node: \", outgoing_edgesCount) "
   ]
  },
  {
   "cell_type": "code",
   "execution_count": 19,
   "id": "8028a8b6-a604-44fa-89df-40b448650c2f",
   "metadata": {},
   "outputs": [
    {
     "name": "stdout",
     "output_type": "stream",
     "text": [
      "Column stochastic probability matrix / importance distribution of outgoing node:\n",
      "[[0.         0.         0.5        0.33333333 0.2       ]\n",
      " [0.         0.         0.5        0.33333333 0.2       ]\n",
      " [0.         0.         0.         0.33333333 0.2       ]\n",
      " [1.         0.         0.         0.         0.2       ]\n",
      " [0.         1.         0.         0.         0.2       ]]\n",
      "Initial rank vector:\n",
      "[[0.2]\n",
      " [0.2]\n",
      " [0.2]\n",
      " [0.2]\n",
      " [0.2]]\n"
     ]
    }
   ],
   "source": [
    "#Make a copy of float adjacency matrix to calculate importance of outgoing edges, by column: 'from'.\n",
    "importance_adjacencyMatrix = float_adjacencyMatrix\n",
    "\n",
    "for column in range(0, len(adjacencyMatrix)):\n",
    "    #(M[:,j]) is each column of adjacency matrix.\n",
    "    #Tackle dead end, assign importance value of outgoing edges to ensure sum col = 1\n",
    "    if np.all(np.isclose(importance_adjacencyMatrix[:, column], 0)):\n",
    "        importance_adjacencyMatrix[:, column] = 1.0 / len(adjacencyMatrix)\n",
    "    else:\n",
    "        importance_adjacencyMatrix[:,column]=importance_adjacencyMatrix[:,column]/outgoing_edgesCount[column]\n",
    "\n",
    "print(\"Column stochastic probability matrix / importance distribution of outgoing node:\")\n",
    "print(importance_adjacencyMatrix)\n",
    "\n",
    "rankVector = (1.0 + np.zeros([len(adjacencyMatrix), 1]))/len(adjacencyMatrix)\n",
    "print(\"Initial rank vector:\")\n",
    "print(rankVector)"
   ]
  },
  {
   "cell_type": "markdown",
   "id": "d12f9824-dd75-4fa9-9c9a-6cfe219df912",
   "metadata": {},
   "source": [
    "#### 1001 iterations with convergence included."
   ]
  },
  {
   "cell_type": "code",
   "execution_count": 20,
   "id": "04fd97da-f0aa-4b7c-a418-513158af9f24",
   "metadata": {},
   "outputs": [
    {
     "name": "stdout",
     "output_type": "stream",
     "text": [
      "Converged iteration:  45\n",
      "Final rank vector: [0.19354839 0.19354839 0.12903226 0.24193548 0.24193548]\n",
      "Ranking of pages: [3, 4, 5, 1, 2]\n"
     ]
    }
   ],
   "source": [
    "previous_rankVector=rankVector\n",
    "#Remove, only applicable for spider trap.\n",
    "#uniformR = (1.0-beta)*rankVector\n",
    "\n",
    "for i in range(1, 1001):\n",
    "    rankVector = np.matmul(float_adjacencyMatrix, previous_rankVector)\n",
    "    #Check for convergence.\n",
    "    difference = np.sum(abs(rankVector - previous_rankVector))\n",
    "    if (difference < threshold):\n",
    "        print(\"Converged iteration: \", i)\n",
    "        break\n",
    "    \n",
    "    previous_rankVector=rankVector\n",
    "\n",
    "print(f\"Final rank vector: {rankVector[:, 0]}\")\n",
    "\n",
    "#Get ranking special case, TWO duplicate importance value.\n",
    "rankList = []\n",
    "for value in rankVector:\n",
    "    rankList.append(tuple(value))\n",
    "\n",
    "sorted_rankList = sorted(rankList, reverse=True)\n",
    "\n",
    "ranks = np.empty_like(rankVector)\n",
    "valueSet = set()\n",
    "\n",
    "for i, value in enumerate(rankVector):\n",
    "    tupleValue = tuple(value)\n",
    "    if tupleValue not in valueSet:\n",
    "        #If new importance value, ranking as 'index + 1' from sorted list. \n",
    "        valueSet.add(tupleValue)\n",
    "        rankIndex = sorted_rankList.index(tupleValue)\n",
    "        ranks[i] = rankIndex + 1\n",
    "    else:\n",
    "        #If importance value already exists, ranking as 'index + 2' from sorted list.\n",
    "        #Given 'index' is from the first occurence of importance value.  \n",
    "        ranks[i] = sorted_rankList.index(tupleValue) + 2\n",
    "\n",
    "finalRanking = [int(rank) for rank in ranks]\n",
    "ranks = ranks.reshape(rankVector.shape)\n",
    "\n",
    "print(f\"Ranking of pages: {finalRanking}\")"
   ]
  },
  {
   "cell_type": "markdown",
   "id": "ad7c0b7a-9650-4bc5-a29c-d6b5fbeb1c2e",
   "metadata": {},
   "source": [
    "#### 6 Iterations, follow manual calculation."
   ]
  },
  {
   "cell_type": "code",
   "execution_count": 21,
   "id": "b829220f-17f5-4c41-bb72-cc7de4438556",
   "metadata": {},
   "outputs": [
    {
     "name": "stdout",
     "output_type": "stream",
     "text": [
      "Final rank vector: [0.1942291  0.1942291  0.12855561 0.2414931  0.2414931 ]\n",
      "Ranking of pages: [3, 4, 5, 1, 2]\n"
     ]
    }
   ],
   "source": [
    "rankVector = (1.0 + np.zeros([len(adjacencyMatrix), 1]))/len(adjacencyMatrix)\n",
    "previous_rankVector = rankVector\n",
    "\n",
    "for i in range(1, 7):\n",
    "    rankVector = np.matmul(float_adjacencyMatrix, previous_rankVector)\n",
    "    #Check for convergence.\n",
    "    difference = np.sum(abs(rankVector - previous_rankVector))\n",
    "    if (difference < threshold):\n",
    "        print(\"Converged iteration: \", i)\n",
    "        break\n",
    "    \n",
    "    previous_rankVector=rankVector\n",
    "\n",
    "print(f\"Final rank vector: {rankVector[:, 0]}\")\n",
    "\n",
    "#Get ranking special case, TWO duplicate importance value.\n",
    "rankList = []\n",
    "for value in rankVector:\n",
    "    rankList.append(tuple(value))\n",
    "\n",
    "sorted_rankList = sorted(rankList, reverse=True)\n",
    "\n",
    "ranks = np.empty_like(rankVector)\n",
    "valueSet = set()\n",
    "\n",
    "for i, value in enumerate(rankVector):\n",
    "    tupleValue = tuple(value)\n",
    "    if tupleValue not in valueSet:\n",
    "        #If new importance value, ranking as 'index + 1' from sorted list. \n",
    "        valueSet.add(tupleValue)\n",
    "        rankIndex = sorted_rankList.index(tupleValue)\n",
    "        ranks[i] = rankIndex + 1\n",
    "    else:\n",
    "        #If importance value already exists, ranking as 'index + 2' from sorted list.\n",
    "        #Given 'index' is from the first occurence of importance value.  \n",
    "        ranks[i] = sorted_rankList.index(tupleValue) + 2\n",
    "\n",
    "finalRanking = [int(rank) for rank in ranks]\n",
    "ranks = ranks.reshape(rankVector.shape)\n",
    "print(f\"Ranking of pages: {finalRanking}\")"
   ]
  },
  {
   "cell_type": "markdown",
   "id": "79f6196c-024f-4859-b9d3-b78cab89adf4",
   "metadata": {},
   "source": [
    "### Method 2: Using NetworkX library."
   ]
  },
  {
   "cell_type": "code",
   "execution_count": 22,
   "id": "e3817bb5-42af-4a82-a0cb-ff65ff6106d3",
   "metadata": {},
   "outputs": [],
   "source": [
    "import matplotlib.pyplot as plt\n",
    "import networkx as nx\n",
    "import numpy as np\n",
    "import sys\n",
    "\n",
    "#Generate given network.\n",
    "L = nx.DiGraph()\n",
    "L.add_nodes_from(['A', 'Q', 'X', 'Y', 'Z'])\n",
    "L.add_edges_from([('A', 'Y'), ('Y', 'A'), ('X', 'A'), ('Y', 'X'), ('Y', 'Q'), ('X', 'Q'), ('Q', 'Z')])"
   ]
  },
  {
   "cell_type": "code",
   "execution_count": 23,
   "id": "0f99d4ad-80af-44cc-8858-dafd776611bb",
   "metadata": {},
   "outputs": [
    {
     "data": {
      "image/png": "[encoded data removed]",
      "text/plain": [
       "<Figure size 640x480 with 1 Axes>"
      ]
     },
     "metadata": {},
     "output_type": "display_data"
    }
   ],
   "source": [
    "#Plot the network.\n",
    "pos = nx.spring_layout(L) \n",
    "nx.draw(L, pos, with_labels=True, node_size=800, node_color='orangered')\n",
    "plt.title(\"Part 4 - Page Rank\")\n",
    "plt.show()"
   ]
  },
  {
   "cell_type": "markdown",
   "id": "cd237d58-b314-43eb-89b6-3c9ba8cff668",
   "metadata": {},
   "source": [
    "#### 10001 Iterations, allow room for convergence check."
   ]
  },
  {
   "cell_type": "code",
   "execution_count": 24,
   "id": "db232bdd-ceef-4195-8caa-c9b92f591dc8",
   "metadata": {},
   "outputs": [
    {
     "name": "stdout",
     "output_type": "stream",
     "text": [
      "Stop at iteration: 98\n",
      "Node A: PageRank = 0.00000, Rank = 3\n",
      "Node Q: PageRank = 0.00000, Rank = 4\n",
      "Node X: PageRank = 0.00000, Rank = 5\n",
      "Node Y: PageRank = 0.00000, Rank = 1\n",
      "Node Z: PageRank = 0.00000, Rank = 2\n"
     ]
    }
   ],
   "source": [
    "pageRank(L, 10001) "
   ]
  },
  {
   "cell_type": "markdown",
   "id": "f94a4051-ffe5-42a1-b02b-666a8a759005",
   "metadata": {},
   "source": [
    "#### 6 Iterations, follow manual calculation."
   ]
  },
  {
   "cell_type": "code",
   "execution_count": 25,
   "id": "cff48ab6-90a1-4be6-b032-32fb8504d54a",
   "metadata": {},
   "outputs": [
    {
     "name": "stdout",
     "output_type": "stream",
     "text": [
      "Node A: PageRank = 0.03519, Rank = 3\n",
      "Node Q: PageRank = 0.03519, Rank = 4\n",
      "Node X: PageRank = 0.02037, Rank = 5\n",
      "Node Y: PageRank = 0.04630, Rank = 1\n",
      "Node Z: PageRank = 0.04630, Rank = 2\n"
     ]
    }
   ],
   "source": [
    "pageRank(L, 6) "
   ]
  },
  {
   "cell_type": "markdown",
   "id": "6b23d9c0-c530-4fa0-89e1-0e215bf873b2",
   "metadata": {},
   "source": [
    "### Part 4 - 2nd approach removing dead ends. Page rank for three nodes: A, X and Y."
   ]
  },
  {
   "cell_type": "code",
   "execution_count": 26,
   "id": "8f2da2f8-7db3-443e-81d9-ffa74fd91d36",
   "metadata": {},
   "outputs": [
    {
     "name": "stdout",
     "output_type": "stream",
     "text": [
      "Number of outgoing edges of each respective neuron node:  [1.0, 1.0, 2.0]\n"
     ]
    }
   ],
   "source": [
    "#Matrix with '1' represents incoming edges. Column: from | Row: to.\n",
    "adjacencyMatrix = [[0, 1, 1],\n",
    "                   [0, 0, 1],\n",
    "                   [1, 0, 0]]\n",
    "\n",
    "#Make a copy of adjacency matrix and convert each element into float.\n",
    "float_adjacencyMatrix=np.array(adjacencyMatrix, dtype=float)\n",
    "\n",
    "outgoing_edgesCount=[]\n",
    "#Get count of outgoing edges of each respective neuron.\n",
    "for i in range(0, len(adjacencyMatrix)):\n",
    "    outgoing_edgesCount.append(np.sum(float_adjacencyMatrix[:,i]))\n",
    "\n",
    "print(\"Number of outgoing edges of each respective neuron node: \", outgoing_edgesCount)   "
   ]
  },
  {
   "cell_type": "code",
   "execution_count": 27,
   "id": "515fd811-8f3c-4af6-a740-802d882a1fdd",
   "metadata": {},
   "outputs": [
    {
     "name": "stdout",
     "output_type": "stream",
     "text": [
      "Column stochastic probability matrix / importance distribution of outgoing node:\n",
      "[[0.  1.  0.5]\n",
      " [0.  0.  0.5]\n",
      " [1.  0.  0. ]]\n",
      "Initial rank vector:\n",
      "[[0.33333333]\n",
      " [0.33333333]\n",
      " [0.33333333]]\n"
     ]
    }
   ],
   "source": [
    "#Make a copy of float adjacency matrix to calculate importance of outgoing edges, by column: 'from'.\n",
    "importance_adjacencyMatrix = float_adjacencyMatrix\n",
    "\n",
    "for column in range(0, len(adjacencyMatrix)):\n",
    "    #(M[:,j]) is each column of adjacency matrix.\n",
    "    importance_adjacencyMatrix[:,column]=importance_adjacencyMatrix[:,column]/outgoing_edgesCount[column]\n",
    "\n",
    "print(\"Column stochastic probability matrix / importance distribution of outgoing node:\")\n",
    "print(importance_adjacencyMatrix)\n",
    "\n",
    "rankVector = (1.0 + np.zeros([len(adjacencyMatrix), 1]))/len(adjacencyMatrix)\n",
    "print(\"Initial rank vector:\")\n",
    "print(rankVector)"
   ]
  },
  {
   "cell_type": "markdown",
   "id": "f605f7b2-446a-4788-999d-3ff77f2b5dc0",
   "metadata": {},
   "source": [
    "#### 1001 iterations with convergence included."
   ]
  },
  {
   "cell_type": "code",
   "execution_count": 28,
   "id": "890fa43a-660a-4024-b2f5-1e6bc1f53300",
   "metadata": {},
   "outputs": [
    {
     "name": "stdout",
     "output_type": "stream",
     "text": [
      "Converged iteration:  85\n",
      "Final rank vector: [0.4 0.2 0.4]\n",
      "Ranking of pages: [3, 1, 2]\n"
     ]
    }
   ],
   "source": [
    "#Not apply Random Walk since this is not a 'dead end' or 'spider trap' case.\n",
    "previous_rankVector=rankVector\n",
    "\n",
    "for i in range(1, 1001):\n",
    "    rankVector = np.matmul(importance_adjacencyMatrix, previous_rankVector)\n",
    "    #Check for convergence.\n",
    "    difference = np.sum(abs(rankVector - previous_rankVector))\n",
    "    if (difference < threshold):\n",
    "        print(\"Converged iteration: \", i)\n",
    "        break\n",
    "    \n",
    "    previous_rankVector=rankVector\n",
    "\n",
    "print(f'Final rank vector: {rankVector[:, 0]}')\n",
    "\n",
    "sortedIndex = np.argsort(rankVector, axis=0)[::-1]\n",
    "rankedList = [index[0] + 1 for index in sortedIndex]\n",
    "print(f'Ranking of pages: {rankedList}')"
   ]
  },
  {
   "cell_type": "markdown",
   "id": "1104cdff-c5fd-40be-9088-b80596e5096a",
   "metadata": {},
   "source": [
    "#### 6 Iterations, follow manual calculation."
   ]
  },
  {
   "cell_type": "code",
   "execution_count": 29,
   "id": "ee0f4c7b-56af-4f0a-81f0-c7ccc9a4c7ae",
   "metadata": {},
   "outputs": [
    {
     "name": "stdout",
     "output_type": "stream",
     "text": [
      "Final rank vector: [0.41666667 0.20833333 0.375     ]\n",
      "Ranking of pages: [1, 3, 2]\n"
     ]
    }
   ],
   "source": [
    "#Not apply Random Walk since this is not a 'dead end' or 'spider trap' case.\n",
    "rankVector = (1.0 + np.zeros([len(adjacencyMatrix), 1]))/len(adjacencyMatrix)\n",
    "previous_rankVector=rankVector\n",
    "\n",
    "for i in range(1, 7):\n",
    "    rankVector = np.matmul(importance_adjacencyMatrix, previous_rankVector)\n",
    "    #Check for convergence.\n",
    "    difference = np.sum(abs(rankVector - previous_rankVector))\n",
    "    if (difference < threshold):\n",
    "        print(\"Converged iteration: \", i)\n",
    "        break\n",
    "    \n",
    "    previous_rankVector=rankVector\n",
    "\n",
    "print(f'Final rank vector: {rankVector[:, 0]}')\n",
    "\n",
    "sortedIndex = np.argsort(rankVector, axis=0)[::-1]\n",
    "rankedList = [index[0] + 1 for index in sortedIndex]\n",
    "print(f'Ranking of pages: {rankedList}')"
   ]
  },
  {
   "cell_type": "code",
   "execution_count": null,
   "id": "4a406d3f-6a71-47f2-9043-f96723d93718",
   "metadata": {},
   "outputs": [],
   "source": []
  }
 ],
 "metadata": {
  "kernelspec": {
   "display_name": "Python 3 (ipykernel)",
   "language": "python",
   "name": "python3"
  },
  "language_info": {
   "codemirror_mode": {
    "name": "ipython",
    "version": 3
   },
   "file_extension": ".py",
   "mimetype": "text/x-python",
   "name": "python",
   "nbconvert_exporter": "python",
   "pygments_lexer": "ipython3",
   "version": "3.9.13"
  }
 },
 "nbformat": 4,
 "nbformat_minor": 5
}
